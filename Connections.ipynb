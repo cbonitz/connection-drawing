{
 "cells": [
  {
   "attachments": {},
   "cell_type": "markdown",
   "metadata": {},
   "source": [
    "# Efficient Path Drawing Between Objects On a Grid\n",
    "\n",
    "This notebook illustrates that drawing connecting paths between objects located on a grid boils down to a few canonical cases. The collision detection required to evade obstacles is not always needed, and can be accelerated using index data structures.\n",
    "\n",
    "![image.png](image.png)"
   ]
  },
  {
   "cell_type": "code",
   "execution_count": 1,
   "metadata": {},
   "outputs": [],
   "source": [
    "import matplotlib.pyplot as plt\n",
    "import matplotlib.patches as patches\n",
    "import numpy as np\n",
    "from itertools import chain\n",
    "import bisect\n",
    "import timeit\n",
    "import pandas as pd\n",
    "from sklearn.linear_model import LinearRegression\n",
    "from scipy.optimize import curve_fit\n",
    "\n",
    "\n",
    "%matplotlib notebook"
   ]
  },
  {
   "cell_type": "markdown",
   "metadata": {},
   "source": [
    "# Core Algorithm"
   ]
  },
  {
   "cell_type": "code",
   "execution_count": 120,
   "metadata": {},
   "outputs": [],
   "source": [
    "class PointIndex:\n",
    "    \"\"\"\n",
    "    A Point Index that computes collision-free connections between points.\n",
    "    \n",
    "    Note: For easier visualization with matplotlib, the x-axis goes up.\n",
    "    It uses sorted lists, one for each row, as indices of the y-coordinates of the points that row.\n",
    "    These indices enable very easy collision detection using  binary search.\n",
    "    \"\"\"\n",
    "    def __init__(self, coordinates):\n",
    "        self.points_by_y = {}\n",
    "        for x, y in coordinates:\n",
    "            self.points_by_y.setdefault(y, []).append(x)\n",
    "        for l in self.points_by_y.values():\n",
    "            l.sort()\n",
    "            \n",
    "    def connect(self, source, target):\n",
    "        \"\"\"\n",
    "        Efficiently find the collission-free connection between source and target.\n",
    "        \n",
    "        Uses the several ways to simplify path finding (see tests for visualization):\n",
    "        - No collision detection required when moving right-to-left, because we're always moving between rows.\n",
    "        - Even when moving left to right, collision detection is only required in the row\n",
    "          of the source object. After that, we're moving between rows.\n",
    "        \"\"\"\n",
    "        segment = [source]\n",
    "        if source[0] >= target[0]:\n",
    "            # right to left: deterministic path between obstacles, only the y-direction varies.\n",
    "            y_offset = 0.5 if source[1] <= target[1] else -0.5\n",
    "            segment.append((0.5 + source[0], source[1]))\n",
    "            segment.append((0.5 + source[0], y_offset + source[1]))\n",
    "            segment.append((- 0.5 + target[0], y_offset + source[1]))\n",
    "            segment.append((-0.5 + target[0], target[1]))\n",
    "        else:\n",
    "            # find the relevant index - only collision detecting \n",
    "            index = self.points_by_y[source[1]]\n",
    "            # find the point to the right of source and to the left of target, if it exists\n",
    "            right_of_index = bisect.bisect_right(index, source[0])\n",
    "            if right_of_index < len(index) and index[right_of_index] < target[0]:\n",
    "                # direct x connection not possible, evade in correct direction\n",
    "                y_offset = 0.5 if source[1] <= target[1] else -0.5\n",
    "                right_of = index[right_of_index]\n",
    "                midpoint_x = -0.5 + right_of\n",
    "                segment.append((midpoint_x, source[1]))\n",
    "                segment.append((midpoint_x, y_offset + source[1]))\n",
    "                if target[1] == source[1]:\n",
    "                    # target is in the same row - find the earliest point to return to current row\n",
    "                    left_of_index = bisect.bisect_right(index, target[0]) - 1\n",
    "                    segment.append((0.5 + index[left_of_index - 1], y_offset + source[1]))\n",
    "                    segment.append((0.5 + index[left_of_index - 1], source[1]))\n",
    "                else:\n",
    "                    # just move right until just before the target column\n",
    "                    segment.append((-0.5 + target[0], y_offset + source[1]))\n",
    "            elif source[1] != target[1]:\n",
    "                # move right until just before the target column\n",
    "                segment.append((-0.5 + target[0], source[1]))\n",
    "            if source[1] != target[1]:\n",
    "                # move vertically to the y-coordinate of the target\n",
    "                segment.append((-0.5 + target[0], target[1]))\n",
    "        # finish the path at the target\n",
    "        segment.append(target)\n",
    "        return segment\n",
    "    def connect_all(self, pairs):\n",
    "        return [self.connect(source, target) for source, target in pairs]\n",
    "    \n",
    "def connect_indexed(points, pairs):\n",
    "    \"\"\"Connect all points using an index.\"\"\"\n",
    "    index = PointIndex(points)\n",
    "    return [index.connect(s, t) for s, t in pairs]"
   ]
  },
  {
   "cell_type": "markdown",
   "metadata": {
    "scrolled": false
   },
   "source": [
    "# Test data generation and visualization"
   ]
  },
  {
   "cell_type": "code",
   "execution_count": 121,
   "metadata": {
    "scrolled": false
   },
   "outputs": [],
   "source": [
    "def generate_coordinates(grid_x, grid_y, number):\n",
    "    if number > grid_x * grid_y * 0.95:\n",
    "        raise ValueError(f\"{number} too large\")\n",
    "    result = set()\n",
    "    while len(result) < number:\n",
    "        result.add((\n",
    "            np.random.randint(0, grid_x),\n",
    "            np.random.randint(0, grid_y)\n",
    "        ))\n",
    "    return list(result)\n",
    "    \n",
    "\n",
    "class Visualization:\n",
    "    def __init__(self, points, segments, color=\"blue\"):\n",
    "        xs, ys = zip(*points)\n",
    "        self.max_x = max(xs) + 1\n",
    "        self.max_y = max(ys) + 1\n",
    "        plt.figure(figsize=(min(self.max_x, 8), min(self.max_y, 8)))\n",
    "        ax = plt.gca()\n",
    "\n",
    "        def left(x, y):\n",
    "            return ()\n",
    "        box_width = 0.4/self.max_x\n",
    "        box_height = 0.4/self.max_y\n",
    "        for (x, y) in points:\n",
    "            point = ((0.3 + x) / self.max_x, (0.3 + y) / self.max_y)\n",
    "            ax.add_patch(patches.Rectangle(point, box_width, box_height, color=\"black\"))\n",
    "        self.visualize_segments(segments, color=color)\n",
    "    \n",
    "    def midpoint(self, x, y):\n",
    "        return ((x + 0.5) / self.max_x, (y + 0.5) / self.max_y)\n",
    "    \n",
    "    def visualize_segments(self, segments, color=\"blue\"):\n",
    "        for segment in segments:\n",
    "            if len(segment) < 2:\n",
    "                return\n",
    "            source = self.midpoint(*segment[0])\n",
    "            for target in segment[1:]:\n",
    "                target = self.midpoint(*target)\n",
    "                plt.plot([source[0], target[0]], [source[1], target[1]], color=color)\n",
    "                source = target        \n",
    "        \n",
    "def random_pairs_of_points(points, number, provoke_edge_cases=False):\n",
    "    index = PointIndex(points)\n",
    "    result = []\n",
    "    for _ in range(number):\n",
    "        source, target = None, None\n",
    "        while source is None or (len(points) > 1 and source == target):\n",
    "            source, target = np.random.choice(len(points), 2)\n",
    "        result.append((points[source], points[target]))\n",
    "    return result\n",
    "\n",
    "def assertPath(source, target, other_points, expected_path):\n",
    "    all_points = [source, target] + other_points\n",
    "    index = PointIndex(all_points)\n",
    "    result = index.connect(source, target)\n",
    "    vis = Visualization(all_points, [result], color=\"red\")\n",
    "    vis.visualize_segments([expected_path], color=\"green\")\n",
    "    try:\n",
    "        assert result == expected_path\n",
    "    except AssertionError as e:\n",
    "        print(\"expected {} but got {}\".format(expected_path, result))\n",
    "        raise AssertionError(e)"
   ]
  },
  {
   "cell_type": "markdown",
   "metadata": {},
   "source": [
    "# Tests Illustrating Canonical Cases"
   ]
  },
  {
   "cell_type": "code",
   "execution_count": 122,
   "metadata": {},
   "outputs": [
    {
     "data": {
      "image/png": "[encoded data removed]",
      "text/plain": [
       "<Figure size 288x72 with 1 Axes>"
      ]
     },
     "metadata": {
      "needs_background": "light"
     },
     "output_type": "display_data"
    }
   ],
   "source": [
    "# Direct horizontal connections from left to right are one straight line\n",
    "assertPath((0, 0), (3, 0), [], [(0, 0), (3,0)])"
   ]
  },
  {
   "cell_type": "code",
   "execution_count": 123,
   "metadata": {},
   "outputs": [
    {
     "data": {
      "image/png": "[encoded data removed]",
      "text/plain": [
       "<Figure size 288x72 with 1 Axes>"
      ]
     },
     "metadata": {
      "needs_background": "light"
     },
     "output_type": "display_data"
    },
    {
     "data": {
      "image/png": "[encoded data removed]",
      "text/plain": [
       "<Figure size 288x72 with 1 Axes>"
      ]
     },
     "metadata": {
      "needs_background": "light"
     },
     "output_type": "display_data"
    }
   ],
   "source": [
    "# Direct horizontal connections from right to left always evade on top, independent of obstacles\n",
    "assertPath((3, 0), (0, 0), [], [(3, 0), (3.5, 0), (3.5, 0.5), (-0.5, 0.5), (-0.5, 0), (0, 0)])\n",
    "assertPath((3, 0), (0, 0), [(1, 0), (2, 0)], [(3, 0), (3.5, 0), (3.5, 0.5), (-0.5, 0.5), (-0.5, 0), (0, 0)])"
   ]
  },
  {
   "cell_type": "code",
   "execution_count": 124,
   "metadata": {},
   "outputs": [
    {
     "data": {
      "image/png": "[encoded data removed]",
      "text/plain": [
       "<Figure size 72x288 with 1 Axes>"
      ]
     },
     "metadata": {
      "needs_background": "light"
     },
     "output_type": "display_data"
    },
    {
     "data": {
      "image/png": "[encoded data removed]",
      "text/plain": [
       "<Figure size 72x288 with 1 Axes>"
      ]
     },
     "metadata": {
      "needs_background": "light"
     },
     "output_type": "display_data"
    },
    {
     "data": {
      "image/png": "[encoded data removed]",
      "text/plain": [
       "<Figure size 288x288 with 1 Axes>"
      ]
     },
     "metadata": {
      "needs_background": "light"
     },
     "output_type": "display_data"
    }
   ],
   "source": [
    "# When the target is not to the right of the source, always evade ASAP, and always connect from left\n",
    "assertPath((0, 3), (0, 0), [], [(0, 3), (0.5, 3), (0.5, 2.5), (-0.5, 2.5), (-0.5, 0), (0, 0)])\n",
    "assertPath((0, 0), (0, 3), [], [(0, 0), (0.5, 0), (0.5, 0.5), (-0.5, 0.5), (-0.5, 3), (0, 3)])\n",
    "assertPath((3, 3), (0, 0), [], [(3,3), (3.5, 3), (3.5, 2.5), (-0.5, 2.5), (-0.5, 0), (0, 0)])"
   ]
  },
  {
   "cell_type": "code",
   "execution_count": 125,
   "metadata": {},
   "outputs": [
    {
     "data": {
      "image/png": "[encoded data removed]",
      "text/plain": [
       "<Figure size 360x72 with 1 Axes>"
      ]
     },
     "metadata": {
      "needs_background": "light"
     },
     "output_type": "display_data"
    }
   ],
   "source": [
    "# If there are obstacles, evade as late as possible.\n",
    "# Going back as early as possible looks nice but requires one extra collision detection\n",
    "assertPath((0, 0), (4, 0), [(1, 0), (2, 0)], [(0, 0), (0.5, 0), (0.5, 0.5), (2.5, 0.5), (2.5, 0), (4,0)])"
   ]
  },
  {
   "cell_type": "code",
   "execution_count": 126,
   "metadata": {},
   "outputs": [
    {
     "data": {
      "image/png": "[encoded data removed]",
      "text/plain": [
       "<Figure size 288x288 with 1 Axes>"
      ]
     },
     "metadata": {
      "needs_background": "light"
     },
     "output_type": "display_data"
    },
    {
     "data": {
      "image/png": "[encoded data removed]",
      "text/plain": [
       "<Figure size 288x288 with 1 Axes>"
      ]
     },
     "metadata": {
      "needs_background": "light"
     },
     "output_type": "display_data"
    }
   ],
   "source": [
    "# When changing rows, evade as late as possible if there is no obstacle\n",
    "# Vertical lines should always be drawn between columns, as the last segment always connects from the left\n",
    "assertPath((0, 0), (3, 3), [], [(0, 0), (2.5, 0), (2.5, 3), (3,3)])\n",
    "assertPath((0, 3), (3, 0), [], [(0, 3), (2.5, 3), (2.5, 0), (3,0)])"
   ]
  },
  {
   "cell_type": "code",
   "execution_count": 127,
   "metadata": {},
   "outputs": [
    {
     "data": {
      "image/png": "[encoded data removed]",
      "text/plain": [
       "<Figure size 288x288 with 1 Axes>"
      ]
     },
     "metadata": {
      "needs_background": "light"
     },
     "output_type": "display_data"
    },
    {
     "data": {
      "image/png": "[encoded data removed]",
      "text/plain": [
       "<Figure size 288x288 with 1 Axes>"
      ]
     },
     "metadata": {
      "needs_background": "light"
     },
     "output_type": "display_data"
    }
   ],
   "source": [
    "# Evade as soon as necessary, then follow shortest paths between obstacles\n",
    "assertPath((0, 0), (3, 3), [(2,0)], [(0, 0), (1.5, 0), (1.5, 0.5), (2.5, 0.5), (2.5, 3), (3,3)])\n",
    "assertPath((0, 3), (3, 0), [(2,3)], [(0, 3), (1.5, 3), (1.5, 2.5), (2.5, 2.5), (2.5, 0), (3, 0)])"
   ]
  },
  {
   "cell_type": "code",
   "execution_count": 135,
   "metadata": {
    "scrolled": false
   },
   "outputs": [
    {
     "data": {
      "image/png": "[encoded data removed]",
      "text/plain": [
       "<Figure size 576x576 with 1 Axes>"
      ]
     },
     "metadata": {
      "needs_background": "light"
     },
     "output_type": "display_data"
    }
   ],
   "source": [
    "# generate a random path\n",
    "points = generate_coordinates(10, 10, 80)\n",
    "pairs = random_pairs_of_points(points, 1)\n",
    "index = PointIndex(points)\n",
    "segments = index.connect_all(pairs)\n",
    "_ = Visualization(points, segments)"
   ]
  },
  {
   "cell_type": "markdown",
   "metadata": {},
   "source": [
    "# Performance\n",
    "\n",
    "Run a performance test. With a grid size of $200 \\times 200$, we try up to $20000$ points, i.e. occupancy of $\\frac{1}{2}$."
   ]
  },
  {
   "cell_type": "code",
   "execution_count": 76,
   "metadata": {},
   "outputs": [],
   "source": [
    "def setup(columns, rows, num_points, lines):\n",
    "    points = generate_coordinates(columns, rows, num_points)\n",
    "    index = PointIndex(points)\n",
    "    pairs = random_pairs_of_points(points, lines)\n",
    "    return index, pairs\n",
    "\n",
    "\n",
    "runs = {}\n",
    "for points in range(1, 20000, 100):\n",
    "    runs[points] = timeit.repeat(stmt=\"i.connect_all(p)\", setup=f\"i,p=setup(200, 200, {points}, 5000)\", repeat=1, number=1, globals=globals())[0]"
   ]
  },
  {
   "cell_type": "markdown",
   "metadata": {
    "scrolled": false
   },
   "source": [
    "Fit a curve that plausibly shows us that the expected runtime of collision detection grows logarithmically with the square root of the number of obstacles, i.e. $\\mathop{\\mathbb{E}}[T] \\approx a + b \\log_2\\sqrt{n}$ for $n$ points and some suitable constants $a$ and $b$."
   ]
  },
  {
   "cell_type": "code",
   "execution_count": 77,
   "metadata": {
    "scrolled": false
   },
   "outputs": [
    {
     "data": {
      "text/plain": [
       "<matplotlib.legend.Legend at 0x1bb4df5c978>"
      ]
     },
     "execution_count": 77,
     "metadata": {},
     "output_type": "execute_result"
    },
    {
     "data": {
      "image/png": "[encoded data removed]",
      "text/plain": [
       "<Figure size 432x288 with 1 Axes>"
      ]
     },
     "metadata": {
      "needs_background": "light"
     },
     "output_type": "display_data"
    }
   ],
   "source": [
    "s = pd.Series(runs)\n",
    "s.sort_index(inplace=True)\n",
    "\n",
    "def log_runtime(n, a, b):\n",
    "    return a + b * np.log(np.sqrt(n))\n",
    "(a, b), _ = curve_fit(log_runtime, s.index.values, s.values)\n",
    "nlogn_predictions = [log_runtime(x, a, b) for x in s.index.values]\n",
    "\n",
    "plt.figure()\n",
    "s.plot(style=\".\", label=\"data\")\n",
    "plt.plot(s.index.values, nlogn_predictions, label=\"a + b*log(sqrt(n))\")\n",
    "plt.legend()"
   ]
  }
 ],
 "metadata": {
  "kernelspec": {
   "display_name": "Python 3",
   "language": "python",
   "name": "python3"
  },
  "language_info": {
   "codemirror_mode": {
    "name": "ipython",
    "version": 3
   },
   "file_extension": ".py",
   "mimetype": "text/x-python",
   "name": "python",
   "nbconvert_exporter": "python",
   "pygments_lexer": "ipython3",
   "version": "3.7.2"
  }
 },
 "nbformat": 4,
 "nbformat_minor": 2
}
